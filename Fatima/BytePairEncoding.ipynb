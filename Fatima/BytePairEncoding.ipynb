{
 "cells": [
  {
   "cell_type": "markdown",
   "metadata": {},
   "source": [
    "### loading Libraries that are going to be used"
   ]
  },
  {
   "cell_type": "code",
   "execution_count": 1,
   "metadata": {},
   "outputs": [],
   "source": [
    "import os\n",
    "import re\n",
    "from collections import defaultdict, Counter\n",
    "import pickle"
   ]
  },
  {
   "cell_type": "markdown",
   "metadata": {},
   "source": [
    "# Preprocessing DataSet \n",
    "### The preprocess_text function preprocesses the input text by converting it to lowercase and removing unnecessary punctuation."
   ]
  },
  {
   "cell_type": "code",
   "execution_count": 2,
   "metadata": {},
   "outputs": [],
   "source": [
    "def preprocess_text(text):\n",
    "    text = text.lower()\n",
    "    text = re.sub(r'[^\\w\\s.,!?]', '', text)\n",
    "    return text"
   ]
  },
  {
   "cell_type": "markdown",
   "metadata": {},
   "source": [
    "# BPE CLASS\n",
    "The BPETokenizer class implements Byte Pair Encoding (BPE) for tokenizing text. It builds a vocabulary, merges frequent pairs of characters or tokens, and encodes/decodes text into token IDs.\n",
    "## Methods\n",
    "# __init__(self, vocab_size=1000)\n",
    "\n",
    "Initializes the tokenizer with a specified vocabulary size.\n",
    "\n",
    "Default: vocab_size = 1000.\n",
    "\n",
    "build_vocab(self, text)\n",
    "\n",
    "Builds the initial vocabulary from unique characters in the text.\n",
    "\n",
    "Assigns IDs starting from 1.\n",
    "\n",
    "Adds <UNK> token with ID 0.\n",
    "\n",
    "# get_stats(self, tokens)\n",
    "\n",
    "Counts the frequency of adjacent token pairs in the input tokens.\n",
    "\n",
    "Returns a dictionary of pairs and their counts.\n",
    "\n",
    "# merge_vocab(self, tokens, pair)\n",
    "\n",
    "Merges the most frequent pair of tokens in the input tokens.\n",
    "\n",
    "Returns updated tokens after merging.\n",
    "\n",
    "# train(self, text)\n",
    "\n",
    "Trains the BPE model on the input text.\n",
    "\n",
    "Builds vocabulary, performs merges, and saves the model to bpe_model.pkl.\n",
    "\n",
    "# encode(self, text)\n",
    "\n",
    "Encodes the input text into token IDs using the trained BPE model.\n",
    "\n",
    "Returns a list of token IDs.\n",
    "\n",
    "# decode(self, ids)\n",
    "\n",
    "Decodes a list of token IDs back into text.\n",
    "\n",
    "Returns the decoded text.\n",
    "\n"
   ]
  },
  {
   "cell_type": "code",
   "execution_count": 3,
   "metadata": {},
   "outputs": [],
   "source": [
    "class BPETokenizer:\n",
    "    def __init__(self, vocab_size=1000):\n",
    "        self.vocab_size = vocab_size\n",
    "        self.vocab = {}\n",
    "        self.merges = {}\n",
    "        self.unk_token = \"<UNK>\"\n",
    "        self.unk_id = 0\n",
    "\n",
    "    def build_vocab(self, text):\n",
    "        chars = sorted(list(set(text)))\n",
    "        self.vocab = {char: idx + 1 for idx, char in enumerate(chars)}  \n",
    "        self.vocab[self.unk_token] = self.unk_id \n",
    "\n",
    "    def get_stats(self, tokens):\n",
    "        pairs = defaultdict(int)\n",
    "        for word in tokens:\n",
    "            symbols = word.split()\n",
    "            for i in range(len(symbols) - 1):\n",
    "                pairs[(symbols[i], symbols[i + 1])] += 1\n",
    "        return pairs\n",
    "\n",
    "    def merge_vocab(self, tokens, pair):\n",
    "        new_tokens = []\n",
    "        for word in tokens:\n",
    "            new_word = []\n",
    "            i = 0\n",
    "            while i < len(word.split()):\n",
    "                if i < len(word.split()) - 1 and (word.split()[i], word.split()[i + 1]) == pair:\n",
    "                    new_word.append(pair[0] + pair[1])\n",
    "                    i += 2\n",
    "                else:\n",
    "                    new_word.append(word.split()[i])\n",
    "                    i += 1\n",
    "            new_tokens.append(\" \".join(new_word))\n",
    "        return new_tokens\n",
    "\n",
    "    def train(self, text):\n",
    "        text = preprocess_text(text)\n",
    "        self.build_vocab(text)\n",
    "        words = text.split()\n",
    "        tokens = [\" \".join(word) for word in words]\n",
    "        while len(self.vocab) < self.vocab_size:\n",
    "            stats = self.get_stats(tokens)\n",
    "            if not stats:\n",
    "                break\n",
    "            best_pair = max(stats, key=stats.get)\n",
    "            tokens = self.merge_vocab(tokens, best_pair)\n",
    "            new_token = best_pair[0] + best_pair[1]\n",
    "            self.vocab[new_token] = len(self.vocab)\n",
    "            self.merges[best_pair] = new_token\n",
    "        with open(\"bpe_model.pkl\", \"wb\") as f:\n",
    "            pickle.dump({\"vocab\": self.vocab, \"merges\": self.merges}, f)\n",
    "\n",
    "    def encode(self, text):\n",
    "        text = preprocess_text(text)\n",
    "        words = text.split()\n",
    "        tokens = [\" \".join(word) for word in words]\n",
    "        for pair, merge in self.merges.items():\n",
    "            tokens = self.merge_vocab(tokens, pair)\n",
    "        ids = []\n",
    "        for token in tokens:\n",
    "            if token in self.vocab:\n",
    "                ids.append(self.vocab[token])\n",
    "            else:\n",
    "                ids.append(self.unk_id)\n",
    "        return ids\n",
    "\n",
    "    def decode(self, ids):\n",
    "        id_to_token = {v: k for k, v in self.vocab.items()}\n",
    "        tokens = [id_to_token.get(id, self.unk_token) for id in ids]\n",
    "        text = \" \".join(tokens)\n",
    "        return text"
   ]
  },
  {
   "cell_type": "markdown",
   "metadata": {},
   "source": [
    "### Loading DataSet function\n"
   ]
  },
  {
   "cell_type": "code",
   "execution_count": 4,
   "metadata": {},
   "outputs": [],
   "source": [
    "def load_dataset_from_folder(folder_path):\n",
    "    text = \"\"\n",
    "    for file_name in os.listdir(folder_path):\n",
    "        if file_name.endswith(\".txt\"):\n",
    "            with open(os.path.join(folder_path, file_name), \"r\", encoding=\"utf-8\") as f:\n",
    "                text += f.read() + \" \"\n",
    "    return text"
   ]
  },
  {
   "cell_type": "markdown",
   "metadata": {},
   "source": [
    "### Calculating Accuracy"
   ]
  },
  {
   "cell_type": "code",
   "execution_count": 5,
   "metadata": {},
   "outputs": [],
   "source": [
    "def calculate_accuracy(bpe, test_text):\n",
    "    tokens = bpe.encode(test_text)\n",
    "    unk_count = tokens.count(bpe.unk_id)\n",
    "    total_tokens = len(tokens)\n",
    "    if total_tokens == 0:\n",
    "        return 1.0 \n",
    "    accuracy = (total_tokens - unk_count) / total_tokens\n",
    "    return accuracy"
   ]
  },
  {
   "cell_type": "markdown",
   "metadata": {},
   "source": [
    "# Main Function\n",
    "## Load Dataset:\n",
    "Loads all .txt files from the corpus_folder and combines their content into a single string.\n",
    "## Train BPE Tokenizer:\n",
    "Initializes a BPETokenizer with a vocabulary size of 1000.\n",
    "Trains the tokenizer on the combined text.\n",
    "## Evaluate on Test Files:\n",
    "Iterates over all .txt files in the test_folder.\n",
    "## For each test file:\n",
    "Encodes the text using the trained BPE tokenizer.\n",
    "Calculates accuracy by comparing the number of <UNK> tokens to the total number of tokens.\n",
    "Computes the combined accuracy as the average accuracy across all test files.\n",
    "## Output:\n",
    "Prints the vocabulary size of the trained model.\n",
    "Prints the combined accuracy as a percentage.\n",
    "\n"
   ]
  },
  {
   "cell_type": "code",
   "execution_count": 6,
   "metadata": {},
   "outputs": [
    {
     "name": "stdout",
     "output_type": "stream",
     "text": [
      "Vocabulary Size: 1000\n",
      "Combined Accuracy: 65.5006 %\n"
     ]
    }
   ],
   "source": [
    "if __name__ == \"__main__\":\n",
    "\n",
    "    corpus_folder = \"D:\\\\NLP\\\\i21-0711_A2\\\\corpus\"  \n",
    "    text = load_dataset_from_folder(corpus_folder)\n",
    "    bpe = BPETokenizer(vocab_size=1000)\n",
    "    bpe.train(text)\n",
    "    print(f\"Vocabulary Size: {len(bpe.vocab)}\")\n",
    "    test_folder = \"D:\\\\NLP\\\\i21-0711_A2\\\\test\"  \n",
    "    total_accuracy = 0.0\n",
    "    total_files = 0\n",
    "    for file_name in os.listdir(test_folder):\n",
    "        if file_name.endswith(\".txt\"):\n",
    "            test_file_path = os.path.join(test_folder, file_name)\n",
    "            with open(test_file_path, \"r\", encoding=\"utf-8\") as f:\n",
    "                test_text = f.read()\n",
    "            accuracy = calculate_accuracy(bpe, test_text)\n",
    "            total_accuracy += accuracy\n",
    "            total_files += 1\n",
    "    if total_files > 0:\n",
    "        combined_accuracy = total_accuracy / total_files *100\n",
    "        print(f\"Combined Accuracy: {combined_accuracy:.4f} %\")\n",
    "    else:\n",
    "        print(\"No test files found.\")"
   ]
  },
  {
   "cell_type": "code",
   "execution_count": null,
   "metadata": {},
   "outputs": [],
   "source": []
  }
 ],
 "metadata": {
  "kernelspec": {
   "display_name": "pytorch_env",
   "language": "python",
   "name": "python3"
  },
  "language_info": {
   "codemirror_mode": {
    "name": "ipython",
    "version": 3
   },
   "file_extension": ".py",
   "mimetype": "text/x-python",
   "name": "python",
   "nbconvert_exporter": "python",
   "pygments_lexer": "ipython3",
   "version": "3.12.7"
  }
 },
 "nbformat": 4,
 "nbformat_minor": 2
}
